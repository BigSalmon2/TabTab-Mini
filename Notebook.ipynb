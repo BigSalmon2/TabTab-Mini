{
  "nbformat": 4,
  "nbformat_minor": 0,
  "metadata": {
    "colab": {
      "name": "NEXT 5 WORDS:",
      "provenance": [],
      "collapsed_sections": []
    },
    "kernelspec": {
      "name": "python3",
      "display_name": "Python 3"
    }
  },
  "cells": [
    {
      "cell_type": "code",
      "metadata": {
        "id": "yzJVyCWVe3QZ"
      },
      "source": [
        "!pip install transformers\n",
        "!pip install flask_ngrok\n",
        "!pip install wtforms"
      ],
      "execution_count": null,
      "outputs": []
    },
    {
      "cell_type": "code",
      "metadata": {
        "id": "awfRK_UkfNHT"
      },
      "source": [
        "!pip install flask_wtf"
      ],
      "execution_count": null,
      "outputs": []
    },
    {
      "cell_type": "code",
      "metadata": {
        "id": "3pVRQshRhrKM"
      },
      "source": [
        "!git clone https://github.com/zanderbush/TabTab-Mini"
      ],
      "execution_count": null,
      "outputs": []
    },
    {
      "cell_type": "code",
      "metadata": {
        "colab": {
          "base_uri": "https://localhost:8080/"
        },
        "id": "Jz6_b05libKV",
        "outputId": "05a9ea48-4138-44cb-c807-25b6c7c66f89"
      },
      "source": [
        "from flask_ngrok import run_with_ngrok\n",
        "from flask import Flask, render_template, url_for\n",
        "from flask_wtf import FlaskForm\n",
        "from wtforms import StringField, SubmitField, TextAreaField\n",
        "from wtforms.validators import DataRequired\n",
        "import torch\n",
        "from transformers import GPT2LMHeadModel, GPT2Tokenizer\n",
        "from flask import Flask, request, render_template\n",
        "import json\n",
        "#import main\n",
        "from flask import Flask, request, Response, render_template, jsonify\n",
        "import requests\n",
        "import time\n",
        "import random\n",
        "\n",
        "#app = Flask(__name__, static_url_path='/static')\n",
        "\n",
        "app = Flask(__name__, root_path='/content/TabTab-Mini')\n",
        "app.config['SECRET_KEY'] = '9bad6913d4358ac1395c5c94370ed090'\n",
        "run_with_ngrok(app)\n",
        "print(app.root_path)\n",
        "\n",
        "models = {\n",
        "    \"gpt2-large\": \"http://main-gpt2-large-jeong-hyun-su.endpoint.ainize.ai/gpt2-large/long\",\n",
        "    \"gpt2-cover-letter\": \"http://main-gpt2-cover-letter-jeong-hyun-su.endpoint.ainize.ai/gpt2-cover-letter/long\",\n",
        "    \"gpt2-reddit\": \"http://master-gpt2-reddit-woomurf.endpoint.ainize.ai/gpt2-reddit/long\",\n",
        "    \"gpt2-story\": \"http://main-gpt2-story-gmlee329.endpoint.ainize.ai/gpt2-story/long\",\n",
        "    \"gpt2-ads\": \"http://main-gpt2-ads-psi1104.endpoint.ainize.ai/gpt2-ads/long\",\n",
        "    \"gpt2-business\": \"http://main-gpt2-business-leesangha.endpoint.ainize.ai/gpt2-business/long\",\n",
        "    \"gpt2-film\": \"http://main-gpt2-film-gmlee329.endpoint.ainize.ai/gpt2-film/long\",\n",
        "    \"gpt2-trump\": \"http://main-gpt2-trump-gmlee329.endpoint.ainize.ai/gpt2-trump/long\",\n",
        "    \"gpt2-debate\": \"https://main-gpt2-debate-gmlee329.endpoint.ainize.ai/gpt2-debate/long\"\n",
        "}\n",
        "\n",
        "@app.route(\"/gpt2\", methods=[\"POST\"])\n",
        "def gpt2():\n",
        "    context = request.form['context']\n",
        "    model = request.form['model']\n",
        "    length = request.form['length']\n",
        "\n",
        "    url = models[model]\n",
        "\n",
        "    if length == \"short\":\n",
        "        length = random.randrange(3,6)\n",
        "    else:\n",
        "        length = 20\n",
        "    \n",
        "    data = {\n",
        "        \"text\": context,\n",
        "        \"num_samples\": 20,\n",
        "        \"length\": length\n",
        "    }\n",
        "\n",
        "    response = requests.post(url, data=data)\n",
        "    res = response.json()\n",
        "    \n",
        "    return res\n",
        "\n",
        "\n",
        "@app.route(\"/\")\n",
        "def main():\n",
        "    return render_template(\"index.html\")\n",
        "\n",
        "\n",
        "# Health Check\n",
        "@app.route(\"/healthz\", methods=[\"GET\"])\n",
        "def healthCheck():\n",
        "    return \"\", 200\n",
        "\n",
        "\n",
        "if __name__ == \"__main__\":\n",
        "    #from waitress import serve\n",
        "    #serve(app, host='0.0.0.0', port=80)  \n",
        "    app.run() \n",
        "\n"
      ],
      "execution_count": 1,
      "outputs": [
        {
          "output_type": "stream",
          "text": [
            "/content/TabTab-Mini\n",
            " * Serving Flask app \"__main__\" (lazy loading)\n",
            " * Environment: production\n",
            "\u001b[31m   WARNING: This is a development server. Do not use it in a production deployment.\u001b[0m\n",
            "\u001b[2m   Use a production WSGI server instead.\u001b[0m\n",
            " * Debug mode: off\n"
          ],
          "name": "stdout"
        },
        {
          "output_type": "stream",
          "text": [
            " * Running on http://127.0.0.1:5000/ (Press CTRL+C to quit)\n"
          ],
          "name": "stderr"
        },
        {
          "output_type": "stream",
          "text": [
            " * Running on http://c9bcae84f8ba.ngrok.io\n",
            " * Traffic stats available on http://127.0.0.1:4040\n"
          ],
          "name": "stdout"
        },
        {
          "output_type": "stream",
          "text": [
            "127.0.0.1 - - [20/Nov/2020 22:40:22] \"\u001b[37mGET / HTTP/1.1\u001b[0m\" 200 -\n",
            "127.0.0.1 - - [20/Nov/2020 22:40:23] \"\u001b[37mGET /static/index.js HTTP/1.1\u001b[0m\" 200 -\n",
            "127.0.0.1 - - [20/Nov/2020 22:40:25] \"\u001b[33mGET /favicon.ico HTTP/1.1\u001b[0m\" 404 -\n",
            "127.0.0.1 - - [20/Nov/2020 22:40:29] \"\u001b[37mPOST /gpt2 HTTP/1.1\u001b[0m\" 200 -\n"
          ],
          "name": "stderr"
        }
      ]
    }
  ]
}
